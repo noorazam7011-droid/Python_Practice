{
 "cells": [
  {
   "cell_type": "markdown",
   "id": "73fde88e",
   "metadata": {},
   "source": [
    "## Python Print Statement"
   ]
  },
  {
   "cell_type": "markdown",
   "id": "0c8a3067",
   "metadata": {},
   "source": [
    "### We use Heading by using (##) and ### fot (Sub Heading.)"
   ]
  },
  {
   "cell_type": "code",
   "execution_count": 13,
   "id": "4f5d6968",
   "metadata": {},
   "outputs": [
    {
     "name": "stdout",
     "output_type": "stream",
     "text": [
      "9\n"
     ]
    }
   ],
   "source": [
    "y=9\n",
    "print (y)\n"
   ]
  },
  {
   "cell_type": "code",
   "execution_count": 14,
   "id": "443b6bd0",
   "metadata": {},
   "outputs": [
    {
     "name": "stdout",
     "output_type": "stream",
     "text": [
      "5\n"
     ]
    }
   ],
   "source": [
    "x=5\n",
    "print(x)"
   ]
  },
  {
   "cell_type": "code",
   "execution_count": 15,
   "id": "87bc9f97",
   "metadata": {},
   "outputs": [
    {
     "name": "stdout",
     "output_type": "stream",
     "text": [
      "14\n"
     ]
    }
   ],
   "source": [
    "z=x+y\n",
    "print(z)"
   ]
  },
  {
   "cell_type": "code",
   "execution_count": 17,
   "id": "2a173954",
   "metadata": {},
   "outputs": [
    {
     "name": "stdout",
     "output_type": "stream",
     "text": [
      "Sahid Noor fawad\n"
     ]
    }
   ],
   "source": [
    "print(\"Sahid\",\"Noor\",\"fawad\")"
   ]
  },
  {
   "cell_type": "code",
   "execution_count": 29,
   "id": "36dae0f0",
   "metadata": {},
   "outputs": [
    {
     "name": "stdout",
     "output_type": "stream",
     "text": [
      "Noor 46 Fawad 78 shayn\n"
     ]
    }
   ],
   "source": [
    "print(\"Noor\",46,\"Fawad\",78,\"shayn\")"
   ]
  },
  {
   "cell_type": "code",
   "execution_count": 28,
   "id": "a32118be",
   "metadata": {},
   "outputs": [
    {
     "name": "stdout",
     "output_type": "stream",
     "text": [
      "My Name is Noor Azam \n",
      "I am a Good Boy \n",
      "I'm Always active in Class \n",
      "So i Dont Have to Revise at my Home \n"
     ]
    }
   ],
   "source": [
    "print(\"My Name is Noor Azam \\nI am a Good Boy \\nI'm Always active in Class \\nSo i Dont Have to Revise at my Home \")"
   ]
  },
  {
   "cell_type": "code",
   "execution_count": 30,
   "id": "fd3e1f3a",
   "metadata": {},
   "outputs": [],
   "source": [
    "x1=\"John\"\n",
    "x2=56\n",
    "x3=\"Rishab\""
   ]
  },
  {
   "cell_type": "code",
   "execution_count": 43,
   "id": "0d874ccc",
   "metadata": {},
   "outputs": [
    {
     "name": "stdout",
     "output_type": "stream",
     "text": [
      "John_56_Rishab\n"
     ]
    }
   ],
   "source": [
    "print(x1,x2,x3,sep=\"_\")"
   ]
  },
  {
   "cell_type": "code",
   "execution_count": 38,
   "id": "d1a90a9f",
   "metadata": {},
   "outputs": [
    {
     "name": "stdout",
     "output_type": "stream",
     "text": [
      "My Name is John \n",
      "Im Rishab Year old \n",
      "My Friend is Rishab\n"
     ]
    }
   ],
   "source": [
    "print(f\"My Name is {x1} \\nIm {x3} Year old \\nMy Friend is {x3}\")"
   ]
  },
  {
   "cell_type": "code",
   "execution_count": 46,
   "id": "9090a3ee",
   "metadata": {},
   "outputs": [],
   "source": [
    "a1=\"Noor\"\n",
    "a2=\"Fawad\"\n"
   ]
  },
  {
   "cell_type": "code",
   "execution_count": 47,
   "id": "feafc5cc",
   "metadata": {},
   "outputs": [
    {
     "name": "stdout",
     "output_type": "stream",
     "text": [
      "Noor\n",
      "Fawad\n"
     ]
    }
   ],
   "source": [
    "print(a1)\n",
    "print(a2)"
   ]
  },
  {
   "cell_type": "code",
   "execution_count": 50,
   "id": "d5828db1",
   "metadata": {},
   "outputs": [
    {
     "name": "stdout",
     "output_type": "stream",
     "text": [
      "Noor Fawad\n"
     ]
    }
   ],
   "source": [
    "print(a1,end=\" \")\n",
    "print(a2)"
   ]
  },
  {
   "cell_type": "code",
   "execution_count": 51,
   "id": "9a32b94c",
   "metadata": {},
   "outputs": [
    {
     "name": "stdout",
     "output_type": "stream",
     "text": [
      "Noor_Fawad\n"
     ]
    }
   ],
   "source": [
    "print(a1,end=\"_\")\n",
    "print(a2)"
   ]
  },
  {
   "cell_type": "code",
   "execution_count": 3,
   "id": "26032c50",
   "metadata": {},
   "outputs": [
    {
     "name": "stdout",
     "output_type": "stream",
     "text": [
      "Good\n"
     ]
    }
   ],
   "source": [
    "marks=int(input(\"enter marks (0-100)\"))\n",
    "Attendence=int(input(\"enter attendence(0-100)\"))\n",
    "improvement=input(\"enter (true/false)\")\n",
    "\n",
    "if marks<=40:\n",
    "    print=(\"Fail\")\n",
    "elif marks>=40 and marks<=59:\n",
    "    if Attendence>=75:\n",
    "        print(\"Pass\")\n",
    "    else:\n",
    "        print(\"Repeat Course\")\n",
    "elif marks>=60 and marks<=70:\n",
    "    if improvement==\"false\":\n",
    "        print(\"Good\")\n",
    "    else:\n",
    "        print(\"Very Good\")\n",
    "else:\n",
    "    print(\"excelent\") "
   ]
  },
  {
   "cell_type": "markdown",
   "id": "c244a088",
   "metadata": {},
   "source": [
    "## you have to create an online store discount decision logic\n",
    "## inputs ->\n",
    "## 1. cart Value\n",
    "## 2. is_Festival\n",
    "## 3. is_first_time_customer\n",
    "## 4. Type_of_Product\n",
    "## 5. Refferal_Code\n",
    "## problems rule:\n",
    "## basic Discount -> \n",
    "## Cart_value<=10000 then Provide Discount of 5%\n",
    "## Cart_value<=50000 and >-10000 then Provide Discount of 10%\n",
    "## Cart_value>50000 then Provide 15% flat Discount\n",
    "\n",
    "## if there is festival then provide additionl 5% discount for every condition\n",
    "## if first time user then provide again additional 5% discount\n",
    "## if Product is \"electronics\" type then provide no additional discount other than compulsive offer but if grocery then 2%\n",
    "## if referral_code=\"mega40%\" and minimum_cart_value>=55000 then provide flat 40% discount\n"
   ]
  },
  {
   "cell_type": "code",
   "execution_count": null,
   "id": "2bc6dac4",
   "metadata": {},
   "outputs": [
    {
     "name": "stdout",
     "output_type": "stream",
     "text": [
      "Discount of 5%\n",
      "Discount bonus 2%\n",
      "Discount 5%\n"
     ]
    }
   ],
   "source": [
    "cart_Value=int(input(\"enter cart value\"))\n",
    "is_Festival=input(\"is_festival (yes/no)\")\n",
    "is_first_time_customer=input(\"first time user (yes/no)\")\n",
    "Type_of_Product=str(input (\"Type of Product (electronics/grocery)\"))\n",
    "Refferal_Code=str(input(\"enter refferal Code\"))\n",
    "\n",
    "if cart_Value<=10000:\n",
    "    print(\"Discount of 5%\")\n",
    "elif  cart_Value<=50000 and cart_Value>10000:\n",
    "    print(\"Discount of 10%\")\n",
    "else:\n",
    "    print (\"Discount of 15%\")\n",
    "if is_Festival==\"yes\":\n",
    "     print(\"additionl 5%\")\n",
    "if Type_of_Product==\"electronics\":\n",
    "     print(\"no additional discount\")\n",
    "else:\n",
    "     print(\"Discount bonus 2%\")\n",
    "if is_first_time_customer==\"yes\":\n",
    "        print (\"Discount 5%\")       \n",
    "if Refferal_Code==\"mega40%\" and cart_Value>=55000:\n",
    "        print (\"flat discount 40%\")\n",
    "\n",
    "\n",
    "\n",
    "\n",
    "\n",
    "\n",
    "\n"
   ]
  }
 ],
 "metadata": {
  "kernelspec": {
   "display_name": "Python 3",
   "language": "python",
   "name": "python3"
  },
  "language_info": {
   "codemirror_mode": {
    "name": "ipython",
    "version": 3
   },
   "file_extension": ".py",
   "mimetype": "text/x-python",
   "name": "python",
   "nbconvert_exporter": "python",
   "pygments_lexer": "ipython3",
   "version": "3.13.3"
  }
 },
 "nbformat": 4,
 "nbformat_minor": 5
}
