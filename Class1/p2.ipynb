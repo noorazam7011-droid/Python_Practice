{
 "cells": [
  {
   "cell_type": "markdown",
   "id": "0dae0443",
   "metadata": {},
   "source": [
    "## Python Data Types\n"
   ]
  },
  {
   "cell_type": "markdown",
   "id": "adaf41de",
   "metadata": {},
   "source": [
    "### 1. Primitive DAta Types\n",
    "##### (We Ca Store only single type of data type)\n",
    "\n",
    "\n",
    "\n"
   ]
  },
  {
   "cell_type": "markdown",
   "id": "aea83a4c",
   "metadata": {},
   "source": [
    "#### 1.1 INT - (EX. 1,-1,546,-453 )"
   ]
  },
  {
   "cell_type": "markdown",
   "id": "08bbcb86",
   "metadata": {},
   "source": [
    "#### 1.3 COMPLEX - (EX. 2+3J, -5+8J)"
   ]
  },
  {
   "cell_type": "markdown",
   "id": "da9fab35",
   "metadata": {},
   "source": [
    "#### 1.4 BOOL - (EX.True,False) "
   ]
  },
  {
   "cell_type": "markdown",
   "id": "a9c3ba00",
   "metadata": {},
   "source": [
    "#### 1.5 STR  - (EX. \"Noor\",\"Fawad\")"
   ]
  },
  {
   "cell_type": "markdown",
   "id": "2487ad8c",
   "metadata": {},
   "source": [
    "### 2. Sequence DataTypes\n",
    "##### (We Ca Store multyple premitives in one line)"
   ]
  },
  {
   "cell_type": "markdown",
   "id": "18d30e99",
   "metadata": {},
   "source": [
    "#### 2.1 List"
   ]
  },
  {
   "cell_type": "code",
   "execution_count": null,
   "id": "a1b0259f",
   "metadata": {},
   "outputs": [],
   "source": [
    "l1=[24,\"Apple\",3.5]"
   ]
  },
  {
   "cell_type": "code",
   "execution_count": null,
   "id": "24b0d998",
   "metadata": {},
   "outputs": [
    {
     "data": {
      "text/plain": [
       "[24, 'Apple', 3.5]"
      ]
     },
     "execution_count": 7,
     "metadata": {},
     "output_type": "execute_result"
    }
   ],
   "source": [
    "l1"
   ]
  },
  {
   "cell_type": "markdown",
   "id": "411d7d96",
   "metadata": {},
   "source": [
    "#### 2.2 Tuple"
   ]
  },
  {
   "cell_type": "code",
   "execution_count": null,
   "id": "5f3fd4ae",
   "metadata": {},
   "outputs": [],
   "source": [
    "t1=(3,5,7,\"B\")"
   ]
  },
  {
   "cell_type": "code",
   "execution_count": null,
   "id": "a3a8347f",
   "metadata": {},
   "outputs": [
    {
     "data": {
      "text/plain": [
       "(3, 5, 7, 'B')"
      ]
     },
     "execution_count": 9,
     "metadata": {},
     "output_type": "execute_result"
    }
   ],
   "source": [
    "t1"
   ]
  },
  {
   "cell_type": "code",
   "execution_count": null,
   "id": "bd2433e0",
   "metadata": {},
   "outputs": [],
   "source": [
    "\n",
    "\n"
   ]
  }
 ],
 "metadata": {
  "kernelspec": {
   "display_name": "Python 3",
   "language": "python",
   "name": "python3"
  },
  "language_info": {
   "codemirror_mode": {
    "name": "ipython",
    "version": 3
   },
   "file_extension": ".py",
   "mimetype": "text/x-python",
   "name": "python",
   "nbconvert_exporter": "python",
   "pygments_lexer": "ipython3",
   "version": "3.13.3"
  }
 },
 "nbformat": 4,
 "nbformat_minor": 5
}
