{
 "cells": [
  {
   "cell_type": "markdown",
   "id": "2d27b789",
   "metadata": {},
   "source": [
    "## LOOP IN PYTHON\n",
    "### Need\n",
    "#### 1.Repeat code Block\n",
    "#### 2.Iteration: execute same code repeatedlu"
   ]
  },
  {
   "cell_type": "markdown",
   "id": "1bb21f07",
   "metadata": {},
   "source": [
    "## while Loop\n",
    "#### Executes till Condition is true"
   ]
  },
  {
   "cell_type": "code",
   "execution_count": 5,
   "id": "6273c286",
   "metadata": {},
   "outputs": [
    {
     "name": "stdout",
     "output_type": "stream",
     "text": [
      "1\n",
      "2\n",
      "3\n",
      "4\n",
      "5\n",
      "6\n",
      "7\n",
      "8\n",
      "9\n",
      "10\n"
     ]
    }
   ],
   "source": [
    "i=1\n",
    "while i<=10:\n",
    "    print (i)\n",
    "    i+=1"
   ]
  },
  {
   "cell_type": "code",
   "execution_count": 6,
   "id": "3f8950aa",
   "metadata": {},
   "outputs": [
    {
     "name": "stdout",
     "output_type": "stream",
     "text": [
      "2\n",
      "4\n",
      "6\n",
      "8\n",
      "10\n",
      "12\n",
      "14\n",
      "16\n",
      "18\n",
      "20\n"
     ]
    }
   ],
   "source": [
    "## Multiplication table of 2\n",
    "i=1\n",
    "while i<=10:\n",
    "    print (i*2)\n",
    "    i+=1"
   ]
  },
  {
   "cell_type": "code",
   "execution_count": null,
   "id": "70acda9e",
   "metadata": {},
   "outputs": [
    {
     "name": "stdout",
     "output_type": "stream",
     "text": [
      "11 * 1 = 11\n",
      "11 * 2 = 22\n",
      "11 * 3 = 33\n",
      "11 * 4 = 44\n",
      "11 * 5 = 55\n",
      "11 * 6 = 66\n",
      "11 * 7 = 77\n",
      "11 * 8 = 88\n",
      "11 * 9 = 99\n",
      "11 * 10 = 110\n"
     ]
    }
   ],
   "source": [
    "## MUltiplication with 11*1=11\n",
    "i=1\n",
    "j=1\n",
    "while i<=10:\n",
    "    print (\"11 *\", j, \"=\", i*11)\n",
    "    i+=1\n",
    "    j+=1"
   ]
  },
  {
   "cell_type": "code",
   "execution_count": 13,
   "id": "eba67dd0",
   "metadata": {},
   "outputs": [
    {
     "name": "stdout",
     "output_type": "stream",
     "text": [
      "11 * 1 = 11\n",
      "11 * 2 = 22\n",
      "11 * 3 = 33\n",
      "11 * 4 = 44\n",
      "11 * 5 = 55\n",
      "11 * 6 = 66\n",
      "11 * 7 = 77\n",
      "11 * 8 = 88\n",
      "11 * 9 = 99\n",
      "11 * 10 = 110\n"
     ]
    }
   ],
   "source": [
    "i=1\n",
    "while i<=10:\n",
    "    print (\"11 *\", i, \"=\",11*i)\n",
    "    i+=1"
   ]
  },
  {
   "cell_type": "code",
   "execution_count": 3,
   "id": "bca482e6",
   "metadata": {},
   "outputs": [
    {
     "name": "stdout",
     "output_type": "stream",
     "text": [
      "1\n",
      "2\n",
      "3\n",
      "4\n",
      "5\n",
      "6\n",
      "7\n",
      "8\n",
      "9\n",
      "10\n",
      "limit axceeds\n"
     ]
    }
   ],
   "source": [
    "## While Loop with else \n",
    "i=1\n",
    "while i<=10:\n",
    "    print (i)\n",
    "    i+=1\n",
    "else:\n",
    "    print (\"limit axceeds\")"
   ]
  },
  {
   "cell_type": "code",
   "execution_count": null,
   "id": "d0fca460",
   "metadata": {},
   "outputs": [],
   "source": [
    "## Take user input of any n digit number \n",
    "#  do sum individual digits and give in \n",
    "#"
   ]
  },
  {
   "cell_type": "code",
   "execution_count": 6,
   "id": "a3f9cfcf",
   "metadata": {},
   "outputs": [
    {
     "name": "stdout",
     "output_type": "stream",
     "text": [
      "Digits 1549\n",
      "Total Sum of Digits 19\n"
     ]
    }
   ],
   "source": [
    "num=int(input(\"Enter Number\"))\n",
    "print(\"Digits\",num)\n",
    "Num_Sum=0\n",
    "while num>0:\n",
    "    Digits = num%10\n",
    "    Num_Sum+=Digits\n",
    "    num=num//10\n",
    "    \n",
    "print(\"Total Sum of Digits\",Num_Sum)"
   ]
  },
  {
   "cell_type": "code",
   "execution_count": null,
   "id": "021d7b14",
   "metadata": {},
   "outputs": [
    {
     "name": "stdout",
     "output_type": "stream",
     "text": [
      "1\n",
      "2\n"
     ]
    }
   ],
   "source": [
    "i=0\n",
    "while i<=10:\n",
    "    print (i)\n",
    "    i+=1\n",
    "    if i==3:\n",
    "        break\n",
    "    \n",
    "   \n",
    "   "
   ]
  },
  {
   "cell_type": "code",
   "execution_count": 2,
   "id": "71ff7195",
   "metadata": {},
   "outputs": [
    {
     "name": "stdout",
     "output_type": "stream",
     "text": [
      "0\n",
      "no Num Entered\n",
      "Total Sum of Digits 0\n",
      "Total Count 1\n",
      "Total avg 0.0\n"
     ]
    }
   ],
   "source": [
    "num=int(input('Enter a Number'))\n",
    "Sum_num=0\n",
    "Count=0\n",
    "while num>=0:\n",
    "    print(num)\n",
    "    Sum_num+=num\n",
    "    Count+=1\n",
    "    num=int(input('Enter a Number'))\n",
    "    if num==0:\n",
    "       print(\"no Num Entered\")\n",
    "       break\n",
    "print(\"Total Sum of Digits\",Sum_num)\n",
    "print(\"Total Count\",Count)\n",
    "Avg=Sum_num/Count\n",
    "print(\"Total avg\",Avg)\n"
   ]
  }
 ],
 "metadata": {
  "kernelspec": {
   "display_name": "Python 3",
   "language": "python",
   "name": "python3"
  },
  "language_info": {
   "codemirror_mode": {
    "name": "ipython",
    "version": 3
   },
   "file_extension": ".py",
   "mimetype": "text/x-python",
   "name": "python",
   "nbconvert_exporter": "python",
   "pygments_lexer": "ipython3",
   "version": "3.13.3"
  }
 },
 "nbformat": 4,
 "nbformat_minor": 5
}
